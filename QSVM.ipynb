{
  "nbformat": 4,
  "nbformat_minor": 0,
  "metadata": {
    "colab": {
      "provenance": []
    },
    "kernelspec": {
      "name": "python3",
      "display_name": "Python 3"
    },
    "language_info": {
      "name": "python"
    }
  },
  "cells": [
    {
      "cell_type": "code",
      "source": [
        "pip install pennylane"
      ],
      "metadata": {
        "colab": {
          "base_uri": "https://localhost:8080/"
        },
        "id": "03B7KLZk_Lts",
        "outputId": "38868776-0d82-484c-be49-cbf8a190e5d0"
      },
      "execution_count": 39,
      "outputs": [
        {
          "output_type": "stream",
          "name": "stdout",
          "text": [
            "Requirement already satisfied: pennylane in /usr/local/lib/python3.11/dist-packages (0.41.0)\n",
            "Requirement already satisfied: numpy in /usr/local/lib/python3.11/dist-packages (from pennylane) (2.0.2)\n",
            "Requirement already satisfied: scipy in /usr/local/lib/python3.11/dist-packages (from pennylane) (1.14.1)\n",
            "Requirement already satisfied: networkx in /usr/local/lib/python3.11/dist-packages (from pennylane) (3.4.2)\n",
            "Requirement already satisfied: rustworkx>=0.14.0 in /usr/local/lib/python3.11/dist-packages (from pennylane) (0.16.0)\n",
            "Requirement already satisfied: autograd in /usr/local/lib/python3.11/dist-packages (from pennylane) (1.7.0)\n",
            "Requirement already satisfied: tomlkit in /usr/local/lib/python3.11/dist-packages (from pennylane) (0.13.2)\n",
            "Requirement already satisfied: appdirs in /usr/local/lib/python3.11/dist-packages (from pennylane) (1.4.4)\n",
            "Requirement already satisfied: autoray>=0.6.11 in /usr/local/lib/python3.11/dist-packages (from pennylane) (0.7.1)\n",
            "Requirement already satisfied: cachetools in /usr/local/lib/python3.11/dist-packages (from pennylane) (5.5.2)\n",
            "Requirement already satisfied: pennylane-lightning>=0.41 in /usr/local/lib/python3.11/dist-packages (from pennylane) (0.41.0)\n",
            "Requirement already satisfied: requests in /usr/local/lib/python3.11/dist-packages (from pennylane) (2.32.3)\n",
            "Requirement already satisfied: typing-extensions in /usr/local/lib/python3.11/dist-packages (from pennylane) (4.13.2)\n",
            "Requirement already satisfied: packaging in /usr/local/lib/python3.11/dist-packages (from pennylane) (24.2)\n",
            "Requirement already satisfied: diastatic-malt in /usr/local/lib/python3.11/dist-packages (from pennylane) (2.15.2)\n",
            "Requirement already satisfied: scipy-openblas32>=0.3.26 in /usr/local/lib/python3.11/dist-packages (from pennylane-lightning>=0.41->pennylane) (0.3.29.0.0)\n",
            "Requirement already satisfied: astunparse in /usr/local/lib/python3.11/dist-packages (from diastatic-malt->pennylane) (1.6.3)\n",
            "Requirement already satisfied: gast in /usr/local/lib/python3.11/dist-packages (from diastatic-malt->pennylane) (0.6.0)\n",
            "Requirement already satisfied: termcolor in /usr/local/lib/python3.11/dist-packages (from diastatic-malt->pennylane) (3.0.1)\n",
            "Requirement already satisfied: charset-normalizer<4,>=2 in /usr/local/lib/python3.11/dist-packages (from requests->pennylane) (3.4.1)\n",
            "Requirement already satisfied: idna<4,>=2.5 in /usr/local/lib/python3.11/dist-packages (from requests->pennylane) (3.10)\n",
            "Requirement already satisfied: urllib3<3,>=1.21.1 in /usr/local/lib/python3.11/dist-packages (from requests->pennylane) (2.3.0)\n",
            "Requirement already satisfied: certifi>=2017.4.17 in /usr/local/lib/python3.11/dist-packages (from requests->pennylane) (2025.1.31)\n",
            "Requirement already satisfied: wheel<1.0,>=0.23.0 in /usr/local/lib/python3.11/dist-packages (from astunparse->diastatic-malt->pennylane) (0.45.1)\n",
            "Requirement already satisfied: six<2.0,>=1.6.1 in /usr/local/lib/python3.11/dist-packages (from astunparse->diastatic-malt->pennylane) (1.17.0)\n"
          ]
        }
      ]
    },
    {
      "cell_type": "code",
      "source": [
        "#same encoding : using angle embedding\n",
        "import pennylane as qml\n",
        "from pennylane import numpy as np\n",
        "from pennylane.templates import AngleEmbedding\n",
        "from sklearn.preprocessing import StandardScaler"
      ],
      "metadata": {
        "id": "K4CMN04DEP8y"
      },
      "execution_count": 40,
      "outputs": []
    },
    {
      "cell_type": "code",
      "source": [
        "n_samples = 100\n",
        "X = np.column_stack((\n",
        "    np.random.normal(34, 2, n_samples), # first feature\n",
        "    np.random.normal(4, 1, n_samples), # Second feature\n",
        "    np.random.normal(0, 2, n_samples), # Third feature\n",
        "))\n",
        "\n",
        "y = np.random.choice([0, 1], size=n_samples)"
      ],
      "metadata": {
        "id": "LynqKgVSI0Ng"
      },
      "execution_count": 41,
      "outputs": []
    },
    {
      "cell_type": "code",
      "source": [
        "scaler = StandardScaler().fit(X)\n",
        "X_scaled = scaler.transform(X)\n",
        "y_scaled = 2 * (y - 0.5)"
      ],
      "metadata": {
        "id": "oU9JsSB_I6Sb"
      },
      "execution_count": 42,
      "outputs": []
    },
    {
      "cell_type": "code",
      "source": [
        "for k, (x, y) in enumerate(zip(X_scaled, y_scaled)):\n",
        "  if k <= 10:\n",
        "      print(f\"x = {x}, y = {y}\")"
      ],
      "metadata": {
        "colab": {
          "base_uri": "https://localhost:8080/"
        },
        "id": "0ncDrqSsI6OY",
        "outputId": "8a308eaf-9b49-4375-a143-738b7bd3d808"
      },
      "execution_count": 43,
      "outputs": [
        {
          "output_type": "stream",
          "name": "stdout",
          "text": [
            "x = [-0.21288978 -0.49681849 -0.60797484], y = 1.0\n",
            "x = [ 0.51200602  0.70015601 -0.33537602], y = 1.0\n",
            "x = [-1.01941893  0.11774128 -0.62074393], y = 1.0\n",
            "x = [-0.90158435  0.41622257  0.48411425], y = -1.0\n",
            "x = [ 0.66007249 -0.3421209  -2.1829589 ], y = 1.0\n",
            "x = [ 0.82713242 -0.02669606 -0.57721843], y = 1.0\n",
            "x = [-0.64541526 -0.56488567 -1.07164801], y = -1.0\n",
            "x = [-0.65682242 -1.51148302  0.14992365], y = -1.0\n",
            "x = [0.50455085 0.62736618 0.86412728], y = 1.0\n",
            "x = [-0.68591136  0.10253442 -0.88435563], y = 1.0\n",
            "x = [-0.30057734 -1.90091841 -0.80264698], y = -1.0\n"
          ]
        }
      ]
    },
    {
      "cell_type": "code",
      "source": [
        "num_qubits = X_scaled.shape[1]\n",
        "\n",
        "dev = qml.device(\"default.qubit\", wires=num_qubits)"
      ],
      "metadata": {
        "id": "2mUyChlyI6Lp"
      },
      "execution_count": 44,
      "outputs": []
    },
    {
      "cell_type": "code",
      "source": [
        "# Define the quantum circuit\n",
        "@qml.qnode(dev)\n",
        "\n",
        "def feature_map(x):# Embed the data into the circuit\n",
        "  qml.AngleEmbedding(x, wires=range(num_qubits), rotation='Y') # Return the full probability vector\n",
        "  return qml.probs(wires=range(num_qubits))\n",
        "\n",
        "def quantum_kernel(X1, X2):# kernel_matrix will call our feature_map QNode under the hood\n",
        "  return qml.kernels.kernel_matrix(X1, X2, kernel=lambda x, y: np.dot(feature_map(x), feature_map(y)))\n",
        "\n",
        "X_train_scaled, X_test_scaled, y_train, y_test = train_test_split(X_scaled, y_scaled, test_size=0.2, random_state=42)\n",
        "\n",
        "X_train_pl = np.array(X_scaled)\n",
        "X_test_pl = np.array(X_test_scaled)\n",
        "\n",
        "# Compute the kernel matrices\n",
        "K_train = quantum_kernel(X_train_pl, X_train_pl)\n",
        "K_test = quantum_kernel(X_test_pl, X_train_pl)"
      ],
      "metadata": {
        "id": "XGqK1NcJI6Jg"
      },
      "execution_count": 45,
      "outputs": []
    },
    {
      "cell_type": "code",
      "source": [
        "#Train the svm\n",
        "from sklearn.svm import SVC\n",
        "from sklearn.pipeline import make_pipeline\n",
        "\n",
        "y_train= np.array(y_scaled)\n",
        "svm = SVC (kernel='precomputed')\n",
        "svm.fit (K_train, y_train)\n",
        "\n",
        "#Evaluate the SVM\n",
        "train_accuracy = svm.score(K_train, y_train)\n",
        "print(f\"Train Accuracy: {train_accuracy:.4f}\")"
      ],
      "metadata": {
        "colab": {
          "base_uri": "https://localhost:8080/"
        },
        "id": "42FBPBWGkRBq",
        "outputId": "708ccef8-44e6-4743-bf76-61cfea7a41e2"
      },
      "execution_count": 46,
      "outputs": [
        {
          "output_type": "stream",
          "name": "stdout",
          "text": [
            "Train Accuracy: 0.5300\n"
          ]
        }
      ]
    },
    {
      "cell_type": "code",
      "source": [
        "test_accuracy = svm.score(K_test, y_test)\n",
        "print(f\"Test Accuracy: {test_accuracy:.4f}\")"
      ],
      "metadata": {
        "colab": {
          "base_uri": "https://localhost:8080/"
        },
        "id": "PHzCZ2sJI6Dn",
        "outputId": "c9992d48-4bd9-4bb8-ca34-9686d123cf03"
      },
      "execution_count": 47,
      "outputs": [
        {
          "output_type": "stream",
          "name": "stdout",
          "text": [
            "Test Accuracy: 0.5000\n"
          ]
        }
      ]
    }
  ]
}