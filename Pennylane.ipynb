{
  "cells": [
    {
      "cell_type": "markdown",
      "metadata": {
        "id": "RJcti7SrTYW_"
      },
      "source": [
        "**Creating a random ansatz**"
      ]
    },
    {
      "cell_type": "code",
      "execution_count": 627,
      "metadata": {
        "id": "3SEnOPDz0eq5"
      },
      "outputs": [],
      "source": [
        "import pennylane as qml\n",
        "from pennylane import numpy as np"
      ]
    },
    {
      "cell_type": "code",
      "execution_count": 628,
      "metadata": {
        "id": "dWrli3qP0xpP"
      },
      "outputs": [],
      "source": [
        "N = 3\n",
        "wires = range(N)\n",
        "dev = qml.device(\"default.qubit\", wires=wires)"
      ]
    },
    {
      "cell_type": "code",
      "execution_count": 629,
      "metadata": {
        "id": "le1jCPXzK_Sn"
      },
      "outputs": [],
      "source": [
        "@qml.qnode(dev)\n",
        "def state_preparation(x):\n",
        "    qml.AngleEmbedding(x, wires)\n",
        "    return [qml.expval(qml.PauliZ(w)) for w in wires]"
      ]
    },
    {
      "cell_type": "code",
      "execution_count": 630,
      "metadata": {
        "id": "Epr_hvd31A_C"
      },
      "outputs": [],
      "source": [
        "def layer(layer_weights):\n",
        "    for wire in range(N):\n",
        "        qml.Rot(*layer_weights[wire], wires=wire)\n",
        "\n",
        "    for wires in range(N - 1):\n",
        "        qml.CNOT([wires, (wires + 1) % N ])\n",
        "\n",
        "    for wire in range(N):\n",
        "        qml.Rot(*layer_weights[wire], wires=wire)"
      ]
    },
    {
      "cell_type": "code",
      "execution_count": 631,
      "metadata": {
        "id": "eNypHLQF66a1"
      },
      "outputs": [],
      "source": [
        "@qml.qnode(dev)\n",
        "def circuit(weights, x):\n",
        "    state_preparation(x)\n",
        "\n",
        "    for layer_weights in weights:\n",
        "        layer(layer_weights)\n",
        "\n",
        "    return qml.expval(qml.PauliZ(0))"
      ]
    },
    {
      "cell_type": "code",
      "execution_count": 632,
      "metadata": {
        "id": "zibrI2mA7ArM"
      },
      "outputs": [],
      "source": [
        "def variational_classifier(weights, bias, x):\n",
        "    return circuit(weights, x) + bias"
      ]
    },
    {
      "cell_type": "code",
      "execution_count": 633,
      "metadata": {
        "colab": {
          "base_uri": "https://localhost:8080/",
          "height": 36
        },
        "id": "uxWNol147Fwr",
        "outputId": "cb1b1c1d-e0b0-4299-8e0a-939c59ce2000"
      },
      "outputs": [
        {
          "data": {
            "text/plain": [
              "'def square_loss(labels, predictions):\\n    # We use a call to qml.math.stack to allow subtracting the arrays directly\\n    return np.mean((labels - qml.math.stack(predictions)) ** 2)'"
            ]
          },
          "execution_count": 633,
          "metadata": {},
          "output_type": "execute_result"
        }
      ],
      "source": [
        "\"\"\"def square_loss(labels, predictions):\n",
        "    # We use a call to qml.math.stack to allow subtracting the arrays directly\n",
        "    return np.mean((labels - qml.math.stack(predictions)) ** 2)\"\"\""
      ]
    },
    {
      "cell_type": "code",
      "execution_count": 634,
      "metadata": {
        "id": "gi32lB5s7Yw5"
      },
      "outputs": [],
      "source": [
        "def accuracy(labels, predictions):\n",
        "    acc = sum(abs(l - p) < 0.5 for l, p in zip(labels, predictions))\n",
        "    acc = acc / len(predictions)\n",
        "    return acc"
      ]
    },
    {
      "cell_type": "code",
      "execution_count": 635,
      "metadata": {
        "id": "BnHjhNLg7fUX"
      },
      "outputs": [],
      "source": [
        "\"\"\"def cost(weights, bias, X, Y):\n",
        "    predictions = [variational_classifier(weights, bias, x) for x in X]\n",
        "    return square_loss(Y, predictions)\"\"\"\n",
        "\n",
        "def sigmoid(x):\n",
        "    return 1 / (1 + np.exp(-x))\n",
        "\n",
        "\n",
        "def cost(weights, bias, X, Y):\n",
        "    loss = 0\n",
        "    for x, y in zip(X, Y):\n",
        "        pred = variational_classifier(weights, bias, x)\n",
        "        prob = sigmoid(pred)\n",
        "        # Map Y from (-1,1) to (0,1) for cross-entropy\n",
        "        y_binary = (y + 1) / 2\n",
        "        # Binary cross entropy loss\n",
        "        loss -= y_binary * np.log(prob + 1e-8) + (1 - y_binary) * np.log(1 - prob + 1e-8)\n",
        "    return loss / len(X)\n"
      ]
    },
    {
      "cell_type": "code",
      "execution_count": 636,
      "metadata": {},
      "outputs": [],
      "source": [
        "def cost(weights, bias, X, Y):\n",
        "    predictions = np.array([variational_classifier(weights, bias, x) for x in X])\n",
        "    lam = 0.1\n",
        "    return np.mean(np.inner(Y - predictions, Y - predictions)) + lam * np.mean((predictions + 1)/2 * (1 - (predictions + 1)/2))"
      ]
    },
    {
      "cell_type": "code",
      "execution_count": 637,
      "metadata": {
        "colab": {
          "base_uri": "https://localhost:8080/"
        },
        "id": "X-nBPVjU5QbH",
        "outputId": "bfc07981-c68e-4b88-852b-43a8463c6958"
      },
      "outputs": [],
      "source": [
        "n_samples = 50\n",
        "X = np.column_stack((\n",
        "    np.random.normal(34, 2, n_samples), # first feature\n",
        "    np.random.normal(4, 1, n_samples), # Second feature\n",
        "    np.random.normal(0, 2, n_samples), # Third feature\n",
        "))\n",
        "\n",
        "# Define binary variable Y as a function of X\n",
        "logits = 3 * X[:, 0] - 2 * X[:, 1] + 0.5 * X[:, 2]\n",
        "logits = logits - logits.mean()\n",
        "Y = (logits > logits.mean()).astype(int)      # Threshold at 0.5\n",
        "Y = Y * 2 - 1  # shift label from {0, 1} to {-1, 1}\n",
        "\n",
        "\n",
        "# Normal Scaling\n",
        "X = (X - X.min(axis=0)) / (X.max(axis=0) - X.min(axis=0))\n"
      ]
    },
    {
      "cell_type": "code",
      "execution_count": 638,
      "metadata": {
        "colab": {
          "base_uri": "https://localhost:8080/"
        },
        "id": "0Ejjno-97f4F",
        "outputId": "73fa965f-bcda-472a-e988-d47aee812341"
      },
      "outputs": [
        {
          "name": "stdout",
          "output_type": "stream",
          "text": [
            "x = [0.98139105 0.72396099 0.50201185], y = 1\n",
            "x = [0.11328182 0.71164741 0.42999741], y = -1\n",
            "x = [0.89521615 0.36205615 0.28281389], y = 1\n",
            "x = [0.61934593 0.4392517  0.24730372], y = 1\n",
            "x = [0.91657632 0.05409868 0.34512775], y = 1\n",
            "x = [0.60570963 0.2778438  0.        ], y = 1\n",
            "x = [0.478043   0.7842325  0.29191351], y = -1\n",
            "x = [0.66237362 0.54331334 0.54406153], y = 1\n",
            "x = [0.42745702 0.95091384 0.5283534 ], y = -1\n",
            "x = [0.78421833 0.60578209 0.3123449 ], y = 1\n",
            "x = [0.75302011 0.33659343 0.42579342], y = 1\n"
          ]
        }
      ],
      "source": [
        "for k, (x, y) in enumerate(zip(X, Y)):\n",
        "  if k <= 10:\n",
        "      print(f\"x = {x}, y = {y}\")"
      ]
    },
    {
      "cell_type": "code",
      "execution_count": 639,
      "metadata": {
        "id": "KOhjJRbw7w_V"
      },
      "outputs": [],
      "source": [
        "# Separete in test and train data\n",
        "from sklearn.model_selection import train_test_split\n",
        "\n",
        "X_train, X_test, Y_train, Y_test = train_test_split(X, Y, test_size=0.2, random_state=42)"
      ]
    },
    {
      "cell_type": "code",
      "execution_count": 640,
      "metadata": {
        "colab": {
          "base_uri": "https://localhost:8080/"
        },
        "id": "_mx5_Sx884Ch",
        "outputId": "86f2ac45-e1aa-4208-d446-cecd8a4a0895"
      },
      "outputs": [
        {
          "name": "stdout",
          "output_type": "stream",
          "text": [
            "Weights: [[[ 0.01764052  0.00400157  0.00978738]\n",
            "  [ 0.02240893  0.01867558 -0.00977278]\n",
            "  [ 0.00950088 -0.00151357 -0.00103219]]\n",
            "\n",
            " [[ 0.00410599  0.00144044  0.01454274]\n",
            "  [ 0.00761038  0.00121675  0.00443863]\n",
            "  [ 0.00333674  0.01494079 -0.00205158]]\n",
            "\n",
            " [[ 0.00313068 -0.00854096 -0.0255299 ]\n",
            "  [ 0.00653619  0.00864436 -0.00742165]\n",
            "  [ 0.02269755 -0.01454366  0.00045759]]\n",
            "\n",
            " [[-0.00187184  0.01532779  0.01469359]\n",
            "  [ 0.00154947  0.00378163 -0.00887786]\n",
            "  [-0.01980796 -0.00347912  0.00156349]]]\n",
            "Bias:  0.0\n"
          ]
        }
      ],
      "source": [
        "np.random.seed(0)\n",
        "num_qubits = 3\n",
        "num_layers = 4\n",
        "weights_init = 0.01 * np.random.randn(num_layers, num_qubits, 3, requires_grad=True)\n",
        "bias_init = np.array(0.0, requires_grad=True)\n",
        "\n",
        "print(\"Weights:\", weights_init)\n",
        "print(\"Bias: \", bias_init)"
      ]
    },
    {
      "cell_type": "code",
      "execution_count": 641,
      "metadata": {
        "colab": {
          "base_uri": "https://localhost:8080/"
        },
        "id": "cWLU4dxydglW",
        "outputId": "211ae5ab-3608-4fbd-e70d-521d0c844eee"
      },
      "outputs": [
        {
          "name": "stdout",
          "output_type": "stream",
          "text": [
            "Iter:    1 | Cost: 56.8100228 | Accuracy: 0.6000000\n",
            "Iter:    2 | Cost: 53.8583038 | Accuracy: 0.6000000\n",
            "Iter:    3 | Cost: 50.8257813 | Accuracy: 0.6000000\n",
            "Iter:    4 | Cost: 47.5329747 | Accuracy: 0.6000000\n",
            "Iter:    5 | Cost: 44.4293087 | Accuracy: 0.6000000\n",
            "Iter:    6 | Cost: 42.8268098 | Accuracy: 0.6000000\n",
            "Iter:    7 | Cost: 41.8818459 | Accuracy: 0.6000000\n",
            "Iter:    8 | Cost: 41.5755940 | Accuracy: 0.4750000\n",
            "Iter:    9 | Cost: 40.8085415 | Accuracy: 0.4250000\n",
            "Iter:   10 | Cost: 40.5350611 | Accuracy: 0.5000000\n",
            "Iter:   11 | Cost: 41.0843263 | Accuracy: 0.4000000\n",
            "Iter:   12 | Cost: 42.1781800 | Accuracy: 0.4000000\n",
            "Iter:   13 | Cost: 41.6747025 | Accuracy: 0.4000000\n",
            "Iter:   14 | Cost: 38.6007714 | Accuracy: 0.4000000\n",
            "Iter:   15 | Cost: 35.4040636 | Accuracy: 0.6750000\n",
            "Iter:   16 | Cost: 33.9849712 | Accuracy: 0.7500000\n",
            "Iter:   17 | Cost: 34.6756084 | Accuracy: 0.6250000\n",
            "Iter:   18 | Cost: 35.4287839 | Accuracy: 0.6000000\n",
            "Iter:   19 | Cost: 35.3234028 | Accuracy: 0.6000000\n",
            "Iter:   20 | Cost: 34.6505493 | Accuracy: 0.6000000\n",
            "Iter:   21 | Cost: 33.4774984 | Accuracy: 0.6250000\n",
            "Iter:   22 | Cost: 32.5853516 | Accuracy: 0.6750000\n",
            "Iter:   23 | Cost: 32.8514748 | Accuracy: 0.7750000\n",
            "Iter:   24 | Cost: 33.5869668 | Accuracy: 0.8500000\n",
            "Iter:   25 | Cost: 33.7020802 | Accuracy: 0.8750000\n",
            "Iter:   26 | Cost: 32.9950064 | Accuracy: 0.7750000\n",
            "Iter:   27 | Cost: 32.1989487 | Accuracy: 0.6750000\n",
            "Iter:   28 | Cost: 31.2896279 | Accuracy: 0.6750000\n",
            "Iter:   29 | Cost: 30.4698353 | Accuracy: 0.6750000\n",
            "Iter:   30 | Cost: 29.6371256 | Accuracy: 0.6750000\n",
            "Iter:   31 | Cost: 28.4704361 | Accuracy: 0.7500000\n"
          ]
        },
        {
          "data": {
            "image/png": "[encoded data removed]",
            "text/plain": [
              "<Figure size 1200x500 with 2 Axes>"
            ]
          },
          "metadata": {},
          "output_type": "display_data"
        }
      ],
      "source": [
        "import matplotlib.pyplot as plt\n",
        "\n",
        "opt = qml.AdamOptimizer(stepsize=0.05, beta1=0.9, beta2=0.9, eps=1e-08)\n",
        "batch_size = 15\n",
        "weights = weights_init\n",
        "bias = bias_init\n",
        "\n",
        "cost_list = []\n",
        "acc_list = []\n",
        "iters = []\n",
        "n = 100\n",
        "\n",
        "for it in range(n):\n",
        "\n",
        "    # Update the weights by one optimizer step, using only a limited batch of data\n",
        "    batch_index = np.random.randint(0, len(X_train), (batch_size,))\n",
        "    X_batch = X_train[batch_index]\n",
        "    Y_batch = Y_train[batch_index]\n",
        "    weights, bias = opt.step(cost, weights, bias, X=X_batch, Y=Y_batch)\n",
        "\n",
        "    # Compute accuracy\n",
        "    predictions = [np.sign(variational_classifier(weights, bias, x)) for x in X_train]\n",
        "\n",
        "    current_cost = cost(weights, bias, X_train, Y_train)\n",
        "    acc = accuracy(Y_train, predictions)\n",
        "\n",
        "    if acc >= 0.9:\n",
        "        break\n",
        "\n",
        "    cost_list.append(current_cost)\n",
        "    acc_list.append(acc)\n",
        "    iters.append(it+1)\n",
        "\n",
        "    \n",
        "    print(f\"Iter: {it+1:4d} | Cost: {current_cost:0.7f} | Accuracy: {acc:0.7f}\")\n",
        "\n",
        "# Now plot\n",
        "plt.figure(figsize=(12,5))\n",
        "\n",
        "# Plot cost\n",
        "plt.subplot(1, 2, 1)\n",
        "plt.plot(iters, cost_list, label=\"Cost\", color=\"blue\")\n",
        "plt.xlabel('Iteration')\n",
        "plt.ylabel('Cost')\n",
        "plt.title('Cost vs Iteration')\n",
        "plt.grid(True)\n",
        "plt.legend()\n",
        "\n",
        "# Plot accuracy\n",
        "plt.subplot(1, 2, 2)\n",
        "plt.plot(iters, acc_list, label=\"Accuracy\", color=\"green\")\n",
        "plt.xlabel('Iteration')\n",
        "plt.ylabel('Accuracy')\n",
        "plt.title('Accuracy vs Iteration')\n",
        "plt.grid(True)\n",
        "plt.legend()\n",
        "\n",
        "plt.tight_layout()\n",
        "plt.show()\n"
      ]
    },
    {
      "cell_type": "code",
      "execution_count": 642,
      "metadata": {
        "id": "FVO3mPf5u2ux"
      },
      "outputs": [],
      "source": [
        "predictions = [np.sign(variational_classifier(weights, bias, x)) for x in X_train]"
      ]
    },
    {
      "cell_type": "code",
      "execution_count": 643,
      "metadata": {
        "colab": {
          "base_uri": "https://localhost:8080/"
        },
        "id": "-980xAJww08Y",
        "outputId": "7684d3fd-cd14-4cb2-f256-86102aeb6266"
      },
      "outputs": [
        {
          "name": "stdout",
          "output_type": "stream",
          "text": [
            "[[[-0.28320761  0.85018839 -0.21425434]\n",
            "  [-0.05850213  0.06221572 -0.01950836]\n",
            "  [-0.48740614 -1.1494871  -0.38799308]]\n",
            "\n",
            " [[-0.19165545 -0.65900229 -0.00946579]\n",
            "  [-0.07153766  0.11660744 -0.09152277]\n",
            "  [ 0.33297632  0.34920208  0.3478387 ]]\n",
            "\n",
            " [[ 0.32253324 -0.53666754  0.30663944]\n",
            "  [ 0.57969558 -0.81011629  0.50548613]\n",
            "  [ 0.24752465 -0.03153662  0.23325851]]\n",
            "\n",
            " [[ 0.39911699  0.58979206  0.55018036]\n",
            "  [ 0.42531537 -0.56585221  0.4155631 ]\n",
            "  [-0.01980798 -0.0034791   0.00156347]]]\n"
          ]
        }
      ],
      "source": [
        "print(weights)"
      ]
    },
    {
      "cell_type": "code",
      "execution_count": 644,
      "metadata": {
        "colab": {
          "base_uri": "https://localhost:8080/"
        },
        "id": "n6wj3Xt8u8nf",
        "outputId": "d55efcc5-9128-433d-a243-8dbeb9a20f33"
      },
      "outputs": [
        {
          "name": "stdout",
          "output_type": "stream",
          "text": [
            "Classification Report:\n",
            "              precision    recall  f1-score   support\n",
            "\n",
            "        -1.0       1.00      0.75      0.86        16\n",
            "        -1.0       1.00      0.75      0.86        16\n",
            "         1.0       0.86      1.00      0.92        24\n",
            "         1.0       0.86      1.00      0.92        24\n",
            "\n",
            "    accuracy                           0.90        80\n",
            "   macro avg       0.93      0.88      0.89        80\n",
            "weighted avg       0.91      0.90      0.90        80\n",
            "\n"
          ]
        }
      ],
      "source": [
        "from sklearn.metrics import classification_report\n",
        "\n",
        "print(\"Classification Report:\")\n",
        "print(classification_report(Y_train, predictions))"
      ]
    },
    {
      "cell_type": "code",
      "execution_count": 645,
      "metadata": {
        "colab": {
          "base_uri": "https://localhost:8080/"
        },
        "id": "xytqLm5s9cru",
        "outputId": "6e96c616-df50-451b-a4ab-f4be46613bb9"
      },
      "outputs": [
        {
          "name": "stdout",
          "output_type": "stream",
          "text": [
            "x = [0.56407385 0.46579747 0.13980522], y = -1, pred=0.5161253241054514, class=1\n",
            "x = [0.50191315 0.45694077 0.03756063], y = -1, pred=0.5056177514120498, class=1\n",
            "x = [0.61783847 0.20051596 0.72339467], y = 1, pred=0.5410251609626331, class=1\n",
            "x = [0.72632605 0.37815938 0.29530672], y = 1, pred=0.548826989604065, class=1\n",
            "x = [0.46014518 0.56082632 0.69274075], y = -1, pred=0.49157548548569296, class=0\n",
            "x = [0.64056797 0.36738419 0.52933493], y = 1, pred=0.5350592713404941, class=1\n",
            "x = [0.73974772 0.71715082 0.33795035], y = 1, pred=0.5311558876665359, class=1\n",
            "x = [0.69964274 0.49032683 1.        ], y = 1, pred=0.530512378578098, class=1\n",
            "x = [0.70374921 0.3006482  0.78120733], y = 1, pred=0.5466864993122131, class=1\n",
            "x = [0.87223378 0.5293071  0.27974573], y = 1, pred=0.5631898265308228, class=1\n",
            "Accuracy on unseen data: 0.7\n"
          ]
        }
      ],
      "source": [
        "\"\"\"data = np.loadtxt(\"parity_test.txt\", dtype=float)\n",
        "X_test = np.array(data[:, :-1])\n",
        "Y_test = np.array(data[:, -1])\n",
        "Y_test = Y_test * 2 - 1  # shift label from {0, 1} to {-1, 1}\"\"\"\n",
        "\n",
        "from sklearn.datasets import make_classification\n",
        "import numpy as np\n",
        "\n",
        "predictions_test = [1/(1 + np.exp(- variational_classifier(weights, bias, x))) for x in X_test]\n",
        "\n",
        "for x,y,p,c in zip(X_test, Y_test, predictions_test, (np.array(predictions_test) > 0.5).astype(int)):\n",
        "    print(f\"x = {x}, y = {y}, pred={p}, class={c}\")\n",
        "\n",
        "acc_test = accuracy(Y_test, np.sign(predictions_test))\n",
        "print(\"Accuracy on unseen data:\", acc_test)"
      ]
    },
    {
      "cell_type": "code",
      "execution_count": 664,
      "metadata": {},
      "outputs": [],
      "source": [
        "grid = {}\n",
        "grid_dimention = 50\n",
        "grid_classification = {}\n",
        "for i in range(grid_dimention):\n",
        "    for j in range(grid_dimention):\n",
        "        k = np.random.randint(0, len(X))\n",
        "        grid[(i, j)] = X[k]\n",
        "        grid_classification[(i, j)] = (Y[k]+1)/2\n",
        "\n",
        "\n",
        "grid_heatmap = {}\n",
        "for key in grid.keys():\n",
        "    prediction = variational_classifier(weights, bias, grid[key])\n",
        "    prediction = (1 + prediction)/2\n",
        "    # prediction = 1/(1 + np.exp(-prediction))\n",
        "    grid_heatmap[key] = prediction\n"
      ]
    },
    {
      "cell_type": "code",
      "execution_count": 665,
      "metadata": {},
      "outputs": [
        {
          "data": {
            "image/png": "[encoded data removed]",
            "text/plain": [
              "<Figure size 640x480 with 2 Axes>"
            ]
          },
          "metadata": {},
          "output_type": "display_data"
        }
      ],
      "source": [
        "import matplotlib.pyplot as plt\n",
        "import numpy as np\n",
        "\n",
        "# Tu grid\n",
        "grid = grid_heatmap\n",
        "\n",
        "# Armar la matriz\n",
        "max_i = max(i for (i, j) in grid.keys())\n",
        "max_j = max(j for (i, j) in grid.keys())\n",
        "\n",
        "matrix = np.zeros((max_i + 1, max_j + 1))\n",
        "\n",
        "for (i, j), value in grid.items():\n",
        "    matrix[i, j] = value\n",
        "\n",
        "# Graficar el heatmap\n",
        "plt.imshow(matrix, cmap='bwr', interpolation='nearest', vmin=0, vmax=1)\n",
        "plt.colorbar()\n",
        "plt.show()"
      ]
    },
    {
      "cell_type": "code",
      "execution_count": 666,
      "metadata": {},
      "outputs": [
        {
          "data": {
            "image/png": "[encoded data removed]",
            "text/plain": [
              "<Figure size 640x480 with 2 Axes>"
            ]
          },
          "metadata": {},
          "output_type": "display_data"
        }
      ],
      "source": [
        "# Tu grid\n",
        "grid = grid_classification\n",
        "\n",
        "# Armar la matriz\n",
        "max_i = max(i for (i, j) in grid.keys())\n",
        "max_j = max(j for (i, j) in grid.keys())\n",
        "\n",
        "matrix = np.zeros((max_i + 1, max_j + 1))\n",
        "\n",
        "for (i, j), value in grid.items():\n",
        "    matrix[i, j] = value\n",
        "\n",
        "# Graficar el heatmap\n",
        "plt.imshow(matrix, cmap='bwr', interpolation='nearest', vmin=0, vmax=1)\n",
        "plt.colorbar()\n",
        "plt.show()"
      ]
    }
  ],
  "metadata": {
    "colab": {
      "provenance": []
    },
    "kernelspec": {
      "display_name": "intro_cirq",
      "language": "python",
      "name": "python3"
    },
    "language_info": {
      "codemirror_mode": {
        "name": "ipython",
        "version": 3
      },
      "file_extension": ".py",
      "mimetype": "text/x-python",
      "name": "python",
      "nbconvert_exporter": "python",
      "pygments_lexer": "ipython3",
      "version": "3.12.2"
    }
  },
  "nbformat": 4,
  "nbformat_minor": 0
}
